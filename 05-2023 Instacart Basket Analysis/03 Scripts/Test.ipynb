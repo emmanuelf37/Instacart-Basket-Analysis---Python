{
 "cells": [
  {
   "cell_type": "code",
   "execution_count": 1,
   "metadata": {},
   "outputs": [],
   "source": [
    "#Import libraries\n",
    "import pandas as pd\n",
    "import numpy as np\n",
    "import os\n",
    "path = r'C:\\Users\\13019\\Documents\\Emmanuel\\Data Analysis\\Data Immersion\\4.x\\05-2023 Instacart Basket Analysis';"
   ]
  },
  {
   "cell_type": "code",
   "execution_count": 2,
   "metadata": {},
   "outputs": [],
   "source": [
    "#01 Import the data set you exported in Exercise 4.9 into a new Jupyter notebook. \n",
    "#   This should be the merged version of your data that contains the new customers column.\n",
    "ords_prods_customers_merged_Part1 = pd.read_pickle(os.path.join(path, '02 Data', 'Prepared Data', 'ords_prods_customers_merged_Part1.pkl'))"
   ]
  },
  {
   "cell_type": "code",
   "execution_count": 4,
   "metadata": {},
   "outputs": [],
   "source": [
    "#02 Consider any security implications that might exist for this new data. \n",
    "#   You’ll need to address any PII data in the data before continuing your analysis."
   ]
  },
  {
   "cell_type": "code",
   "execution_count": 5,
   "metadata": {},
   "outputs": [],
   "source": [
    "#03 The Instacart officers are interested in comparing customer behavior in different geographic areas. \n",
    "#   Create a regional segmentation of the data. \n",
    "#   You’ll need to create a “Region” column based on the “State” column from your customers data set.\n",
    "#   Use the region information in this Wikipedia article to create your column (you only need to create regions, not divisions).\n",
    "#   Determine whether there’s a difference in spending habits between the different U.S. regions. \n",
    "#   (Hint: You can do this by crossing the variable you just created with the spending flag.)\n",
    "\n"
   ]
  },
  {
   "cell_type": "code",
   "execution_count": null,
   "metadata": {},
   "outputs": [],
   "source": [
    "#04 The Instacart CFO isn’t interested in customers who don’t generate much revenue for the app. \n",
    "#   Create an exclusion flag for low-activity customers (customers with less than 5 orders) and exclude them from the data. \n",
    "#   Make sure you export this sample.\n",
    "\n",
    "\n"
   ]
  },
  {
   "cell_type": "code",
   "execution_count": null,
   "metadata": {},
   "outputs": [],
   "source": [
    "#05 The marketing and business strategy units at Instacart want to create more-relevant marketing strategies for different products and are, \n",
    "#   thus, curious about customer profiling in their database. \n",
    "#   Create a profiling variable based on age, income, certain goods in the “department_id” column, and number of dependents. \n",
    "#   You might also use the “orders_day_of_the_week” and “order_hour_of_day” columns if you can think of a way they would impact customer profiles. \n",
    "#   (Hint: As an example, try thinking of what characteristics would lead you to the profile “Single adult” or “Young parent.”)\n",
    "\n"
   ]
  },
  {
   "cell_type": "code",
   "execution_count": null,
   "metadata": {},
   "outputs": [],
   "source": [
    "#06 Create an appropriate visualization to show the distribution of profiles."
   ]
  },
  {
   "cell_type": "code",
   "execution_count": null,
   "metadata": {},
   "outputs": [],
   "source": [
    "#07 Aggregate the max, mean, and min variables on a customer-profile level for usage frequency and expenditure."
   ]
  },
  {
   "cell_type": "code",
   "execution_count": null,
   "metadata": {},
   "outputs": [],
   "source": [
    "#08 Compare your customer profiles with regions and departments. \n",
    "#   Can you identify a link between them? Customers may demonstrate different behaviors across regions,\n",
    "#   which could make this information important."
   ]
  },
  {
   "cell_type": "code",
   "execution_count": null,
   "metadata": {},
   "outputs": [],
   "source": [
    "#09 Produce suitable charts to illustrate your results and export them in your project folder.\n",
    "[Image].figure.savefig(os.path.join(path, '04 Analysis','Visualizations', '[Image].png'))"
   ]
  },
  {
   "cell_type": "code",
   "execution_count": null,
   "metadata": {},
   "outputs": [],
   "source": [
    "#10 Tidy up your script, export your final data set, and save your notebook.\n",
    "[DataFrame].to_pickle(os.path.join(path, '02 Data','Prepared Data', '[DataFrame].pkl'))"
   ]
  }
 ],
 "metadata": {
  "kernelspec": {
   "display_name": "Python 3 (ipykernel)",
   "language": "python",
   "name": "python3"
  },
  "language_info": {
   "codemirror_mode": {
    "name": "ipython",
    "version": 3
   },
   "file_extension": ".py",
   "mimetype": "text/x-python",
   "name": "python",
   "nbconvert_exporter": "python",
   "pygments_lexer": "ipython3",
   "version": "3.10.9"
  },
  "orig_nbformat": 4
 },
 "nbformat": 4,
 "nbformat_minor": 2
}
