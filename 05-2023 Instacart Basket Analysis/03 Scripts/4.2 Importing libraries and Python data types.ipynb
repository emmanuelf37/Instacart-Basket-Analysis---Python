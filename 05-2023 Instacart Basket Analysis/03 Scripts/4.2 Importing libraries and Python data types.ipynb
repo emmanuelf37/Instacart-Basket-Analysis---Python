{
 "cells": [
  {
   "attachments": {},
   "cell_type": "markdown",
   "id": "ca5c2854",
   "metadata": {},
   "source": [
    "--Content Header--\n",
    "\n",
    "1 Import Libraries\n",
    "\n",
    "2 Code 3 different ways of reaching a result of 100 by adding or subrtracting numeric variables\n",
    "\n",
    "3 Code 2 floating-point variables and divide them by each other.\n",
    "\n",
    "4 Construct a short word made of separate strings (you’ll need to concatenate some strings!).\n",
    "\n",
    "5 Construct 2 short sentences made of separate strings."
   ]
  },
  {
   "attachments": {},
   "cell_type": "markdown",
   "id": "db08599a",
   "metadata": {},
   "source": [
    "## 01 Importing Libraries"
   ]
  },
  {
   "cell_type": "code",
   "execution_count": 2,
   "id": "4cedb0d8",
   "metadata": {},
   "outputs": [],
   "source": [
    "# Import libraries\n",
    "import pandas as pd\n",
    "import numpy as np\n",
    "import os"
   ]
  },
  {
   "attachments": {},
   "cell_type": "markdown",
   "id": "d7ebfa0c",
   "metadata": {},
   "source": [
    "## 07 Code 3 different ways of reaching a result of 100 by adding or subtracting numeric variables."
   ]
  },
  {
   "cell_type": "code",
   "execution_count": 19,
   "id": "431812ff",
   "metadata": {},
   "outputs": [],
   "source": [
    "x=50 "
   ]
  },
  {
   "cell_type": "code",
   "execution_count": 21,
   "id": "6bb19a0d",
   "metadata": {},
   "outputs": [],
   "source": [
    "y=25"
   ]
  },
  {
   "cell_type": "code",
   "execution_count": 26,
   "id": "357c42b4",
   "metadata": {},
   "outputs": [],
   "source": [
    "z=200"
   ]
  },
  {
   "cell_type": "code",
   "execution_count": 38,
   "id": "74076ce4",
   "metadata": {},
   "outputs": [
    {
     "name": "stdout",
     "output_type": "stream",
     "text": [
      "100\n"
     ]
    }
   ],
   "source": [
    "print(x+x)"
   ]
  },
  {
   "cell_type": "code",
   "execution_count": 35,
   "id": "8f63ccdc",
   "metadata": {},
   "outputs": [
    {
     "name": "stdout",
     "output_type": "stream",
     "text": [
      "100\n"
     ]
    }
   ],
   "source": [
    "print(z-(x+x))"
   ]
  },
  {
   "cell_type": "code",
   "execution_count": 37,
   "id": "77f76f49",
   "metadata": {},
   "outputs": [
    {
     "name": "stdout",
     "output_type": "stream",
     "text": [
      "100\n"
     ]
    }
   ],
   "source": [
    "print(y+y+x)"
   ]
  },
  {
   "attachments": {},
   "cell_type": "markdown",
   "id": "402057c3",
   "metadata": {},
   "source": [
    "## 08 Code 2 floating-point variables and divide them by each other."
   ]
  },
  {
   "cell_type": "code",
   "execution_count": 31,
   "id": "92c448a4",
   "metadata": {},
   "outputs": [],
   "source": [
    "zx=2.345"
   ]
  },
  {
   "cell_type": "code",
   "execution_count": 32,
   "id": "cc15a9eb",
   "metadata": {},
   "outputs": [],
   "source": [
    "xy=4.632"
   ]
  },
  {
   "cell_type": "code",
   "execution_count": 36,
   "id": "c54d724f",
   "metadata": {},
   "outputs": [
    {
     "name": "stdout",
     "output_type": "stream",
     "text": [
      "0.5062607944732298\n"
     ]
    }
   ],
   "source": [
    "print(zx/xy)"
   ]
  },
  {
   "attachments": {},
   "cell_type": "markdown",
   "id": "9a716df6",
   "metadata": {},
   "source": [
    "## 09 Construct a short word made of separate strings (you’ll need to concatenate some strings!)."
   ]
  },
  {
   "cell_type": "code",
   "execution_count": 44,
   "id": "6ffc00eb",
   "metadata": {},
   "outputs": [],
   "source": [
    "x='p';y='z';z='i';j='a';"
   ]
  },
  {
   "cell_type": "code",
   "execution_count": 45,
   "id": "d3afbc68",
   "metadata": {},
   "outputs": [
    {
     "name": "stdout",
     "output_type": "stream",
     "text": [
      "pizza\n"
     ]
    }
   ],
   "source": [
    "print(x+z+y+y+j)"
   ]
  },
  {
   "attachments": {},
   "cell_type": "markdown",
   "id": "0f864156",
   "metadata": {},
   "source": [
    "## 10 Construct 2 short sentences made of separate strings."
   ]
  },
  {
   "cell_type": "code",
   "execution_count": 49,
   "id": "a8ef1c91",
   "metadata": {},
   "outputs": [],
   "source": [
    "x='Pizza ';y='tastes ';z='good!';j=' Do ';xy='you '; yz='agree?'"
   ]
  },
  {
   "cell_type": "code",
   "execution_count": 50,
   "id": "49ecc54c",
   "metadata": {},
   "outputs": [
    {
     "name": "stdout",
     "output_type": "stream",
     "text": [
      "Pizza tastes good! Do you agree?\n"
     ]
    }
   ],
   "source": [
    "print(x+y+z+j+xy+yz)"
   ]
  }
 ],
 "metadata": {
  "kernelspec": {
   "display_name": "Python 3 (ipykernel)",
   "language": "python",
   "name": "python3"
  },
  "language_info": {
   "codemirror_mode": {
    "name": "ipython",
    "version": 3
   },
   "file_extension": ".py",
   "mimetype": "text/x-python",
   "name": "python",
   "nbconvert_exporter": "python",
   "pygments_lexer": "ipython3",
   "version": "3.10.9"
  }
 },
 "nbformat": 4,
 "nbformat_minor": 5
}
